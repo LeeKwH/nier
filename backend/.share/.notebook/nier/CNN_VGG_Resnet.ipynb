{
 "cells": [
  {
   "cell_type": "code",
   "execution_count": null,
   "metadata": {
    "id": "d579a25-wzt7"
   },
   "outputs": [],
   "source": [
    "#!pip install -q tensorflow-gpu==2.0.0-rc1\n",
    "import tensorflow as tf"
   ]
  },
  {
   "cell_type": "code",
   "execution_count": null,
   "metadata": {
    "colab": {
     "base_uri": "https://localhost:8080/",
     "height": 55
    },
    "id": "placrUfw4nKX",
    "outputId": "b5e46e0b-e3fe-474b-abe1-4e087f094b52"
   },
   "outputs": [
    {
     "name": "stdout",
     "output_type": "stream",
     "text": [
      "Downloading data from https://www.cs.toronto.edu/~kriz/cifar-10-python.tar.gz\n",
      "170500096/170498071 [==============================] - 6s 0us/step\n"
     ]
    }
   ],
   "source": [
    "(x_train, y_train), (x_test, y_test) = tf.keras.datasets.cifar10.load_data()\n",
    "x_train, x_test = x_train / 255.0, x_test / 255.0"
   ]
  },
  {
   "cell_type": "code",
   "execution_count": null,
   "metadata": {
    "colab": {
     "base_uri": "https://localhost:8080/",
     "height": 36
    },
    "id": "Wfy4wq0e47a9",
    "outputId": "c1507275-a6ec-48b7-8f70-361509596846"
   },
   "outputs": [
    {
     "data": {
      "text/plain": [
       "(50000, 32, 32, 3)"
      ]
     },
     "execution_count": 3,
     "metadata": {
      "tags": []
     },
     "output_type": "execute_result"
    }
   ],
   "source": [
    "x_train.shape"
   ]
  },
  {
   "cell_type": "code",
   "execution_count": null,
   "metadata": {
    "colab": {
     "base_uri": "https://localhost:8080/",
     "height": 36
    },
    "id": "R0v_9Nr-PtJM",
    "outputId": "42539a66-df09-4edc-9c0b-36fb4446a56d"
   },
   "outputs": [
    {
     "data": {
      "text/plain": [
       "(50000, 1)"
      ]
     },
     "execution_count": 4,
     "metadata": {
      "tags": []
     },
     "output_type": "execute_result"
    }
   ],
   "source": [
    "y_train.shape"
   ]
  },
  {
   "cell_type": "code",
   "execution_count": null,
   "metadata": {
    "colab": {
     "base_uri": "https://localhost:8080/",
     "height": 204
    },
    "id": "WrWPXrKUPvma",
    "outputId": "607c9832-686a-4889-9620-2c0b3532a509"
   },
   "outputs": [
    {
     "data": {
      "text/plain": [
       "array([[6],\n",
       "       [9],\n",
       "       [9],\n",
       "       [4],\n",
       "       [1],\n",
       "       [1],\n",
       "       [2],\n",
       "       [7],\n",
       "       [8],\n",
       "       [3]], dtype=uint8)"
      ]
     },
     "execution_count": 5,
     "metadata": {
      "tags": []
     },
     "output_type": "execute_result"
    }
   ],
   "source": [
    "y_train[:10]"
   ]
  },
  {
   "cell_type": "code",
   "execution_count": null,
   "metadata": {
    "id": "tHFv4RJJ-AtO"
   },
   "outputs": [],
   "source": [
    "# Keras의 Functional APi를 이용할 거라서 불러와줍니다.\n",
    "from tensorflow import keras\n",
    "from tensorflow.keras import layers"
   ]
  },
  {
   "cell_type": "code",
   "execution_count": null,
   "metadata": {
    "colab": {
     "base_uri": "https://localhost:8080/",
     "height": 652
    },
    "id": "CwnA0rc7w9Hf",
    "outputId": "3052d13a-a0e1-47ae-9637-14e728de0eab"
   },
   "outputs": [
    {
     "name": "stdout",
     "output_type": "stream",
     "text": [
      "Model: \"model\"\n",
      "_________________________________________________________________\n",
      "Layer (type)                 Output Shape              Param #   \n",
      "=================================================================\n",
      "input_1 (InputLayer)         [(None, 32, 32, 3)]       0         \n",
      "_________________________________________________________________\n",
      "conv2d (Conv2D)              (None, 32, 32, 64)        1792      \n",
      "_________________________________________________________________\n",
      "conv2d_1 (Conv2D)            (None, 32, 32, 64)        36928     \n",
      "_________________________________________________________________\n",
      "max_pooling2d (MaxPooling2D) (None, 16, 16, 64)        0         \n",
      "_________________________________________________________________\n",
      "conv2d_2 (Conv2D)            (None, 16, 16, 128)       73856     \n",
      "_________________________________________________________________\n",
      "conv2d_3 (Conv2D)            (None, 16, 16, 128)       147584    \n",
      "_________________________________________________________________\n",
      "max_pooling2d_1 (MaxPooling2 (None, 8, 8, 128)         0         \n",
      "_________________________________________________________________\n",
      "conv2d_4 (Conv2D)            (None, 8, 8, 256)         295168    \n",
      "_________________________________________________________________\n",
      "conv2d_5 (Conv2D)            (None, 8, 8, 256)         590080    \n",
      "_________________________________________________________________\n",
      "flatten (Flatten)            (None, 16384)             0         \n",
      "_________________________________________________________________\n",
      "dense (Dense)                (None, 256)               4194560   \n",
      "_________________________________________________________________\n",
      "dense_1 (Dense)              (None, 256)               65792     \n",
      "_________________________________________________________________\n",
      "dense_2 (Dense)              (None, 10)                2570      \n",
      "=================================================================\n",
      "Total params: 5,408,330\n",
      "Trainable params: 5,408,330\n",
      "Non-trainable params: 0\n",
      "_________________________________________________________________\n"
     ]
    }
   ],
   "source": [
    "# VGGNet 논문에서 활용한 이미지 크기가 224x224x3 입니다.\n",
    "# 그 모델을 그대로 가져오면 Pooling으로 인해 이미지가 너무 작아지기 때문에 모델의 구조를 조금 바꾸었습니다.\n",
    "inputs = keras.Input(shape=(32, 32, 3))\n",
    "x = inputs\n",
    "x = layers.Conv2D(64, 3, activation='relu', padding=\"same\")(x)\n",
    "x = layers.Conv2D(64, 3, activation='relu', padding=\"same\")(x)\n",
    "x = layers.MaxPooling2D(2)(x)\n",
    "x = layers.Conv2D(128, 3, activation='relu', padding=\"same\")(x)\n",
    "x = layers.Conv2D(128, 3, activation='relu', padding=\"same\")(x)\n",
    "x = layers.MaxPooling2D(2)(x)\n",
    "x = layers.Conv2D(256, 3, activation='relu', padding=\"same\")(x)\n",
    "x = layers.Conv2D(256, 3, activation='relu', padding=\"same\")(x)\n",
    "#x = layers.MaxPooling2D(2)(x)\n",
    "\n",
    "x = layers.Flatten()(x)\n",
    "x = layers.Dense(256)(x)\n",
    "x = layers.Dense(256)(x)\n",
    "x = layers.Dense(10, activation='softmax')(x)\n",
    "outputs = x\n",
    "\n",
    "model = keras.Model(inputs, outputs)\n",
    "model.summary()"
   ]
  },
  {
   "cell_type": "code",
   "execution_count": null,
   "metadata": {
    "colab": {
     "base_uri": "https://localhost:8080/",
     "height": 260
    },
    "id": "aNxNlMtew_Zl",
    "outputId": "dee4414f-088a-4065-84e5-4a1cda81b0af"
   },
   "outputs": [
    {
     "name": "stdout",
     "output_type": "stream",
     "text": [
      "Train on 50000 samples\n",
      "Epoch 1/5\n",
      "50000/50000 [==============================] - 16s 320us/sample - loss: 1.5299 - accuracy: 0.4353\n",
      "Epoch 2/5\n",
      "50000/50000 [==============================] - 12s 237us/sample - loss: 1.0676 - accuracy: 0.6203\n",
      "Epoch 3/5\n",
      "50000/50000 [==============================] - 12s 238us/sample - loss: 0.8887 - accuracy: 0.6868\n",
      "Epoch 4/5\n",
      "50000/50000 [==============================] - 12s 238us/sample - loss: 0.7801 - accuracy: 0.7255\n",
      "Epoch 5/5\n",
      "50000/50000 [==============================] - 12s 238us/sample - loss: 0.6998 - accuracy: 0.7539\n",
      "10000/1 - 1s - loss: 0.7311 - accuracy: 0.7165\n"
     ]
    },
    {
     "data": {
      "text/plain": [
       "[0.8267595977783203, 0.7165]"
      ]
     },
     "execution_count": 9,
     "metadata": {
      "tags": []
     },
     "output_type": "execute_result"
    }
   ],
   "source": [
    "model.compile(optimizer='adam',\n",
    "              loss='sparse_categorical_crossentropy',\n",
    "              metrics=['accuracy'])\n",
    "model.fit(x_train, y_train, epochs=5)\n",
    "model.evaluate(x_test,  y_test, verbose=2)"
   ]
  },
  {
   "cell_type": "markdown",
   "metadata": {
    "id": "BQ2dztFA1Gnp"
   },
   "source": [
    "# 2. Residual Connection"
   ]
  },
  {
   "cell_type": "code",
   "execution_count": null,
   "metadata": {
    "colab": {
     "base_uri": "https://localhost:8080/",
     "height": 689
    },
    "id": "KTjLWwgczcRP",
    "outputId": "dcf93f8c-d062-4f10-a633-f579272efe37"
   },
   "outputs": [
    {
     "name": "stdout",
     "output_type": "stream",
     "text": [
      "Model: \"model_1\"\n",
      "_________________________________________________________________\n",
      "Layer (type)                 Output Shape              Param #   \n",
      "=================================================================\n",
      "input_2 (InputLayer)         [(None, 32, 32, 3)]       0         \n",
      "_________________________________________________________________\n",
      "conv2d_6 (Conv2D)            (None, 32, 32, 128)       3584      \n",
      "_________________________________________________________________\n",
      "conv2d_7 (Conv2D)            (None, 32, 32, 128)       147584    \n",
      "_________________________________________________________________\n",
      "conv2d_8 (Conv2D)            (None, 32, 32, 128)       147584    \n",
      "_________________________________________________________________\n",
      "conv2d_9 (Conv2D)            (None, 32, 32, 128)       147584    \n",
      "_________________________________________________________________\n",
      "conv2d_10 (Conv2D)           (None, 32, 32, 128)       147584    \n",
      "_________________________________________________________________\n",
      "conv2d_11 (Conv2D)           (None, 32, 32, 128)       147584    \n",
      "_________________________________________________________________\n",
      "conv2d_12 (Conv2D)           (None, 32, 32, 128)       147584    \n",
      "_________________________________________________________________\n",
      "conv2d_13 (Conv2D)           (None, 32, 32, 128)       147584    \n",
      "_________________________________________________________________\n",
      "max_pooling2d_2 (MaxPooling2 (None, 16, 16, 128)       0         \n",
      "_________________________________________________________________\n",
      "flatten_1 (Flatten)          (None, 32768)             0         \n",
      "_________________________________________________________________\n",
      "dense_3 (Dense)              (None, 128)               4194432   \n",
      "_________________________________________________________________\n",
      "dense_4 (Dense)              (None, 128)               16512     \n",
      "_________________________________________________________________\n",
      "dense_5 (Dense)              (None, 10)                1290      \n",
      "=================================================================\n",
      "Total params: 5,248,906\n",
      "Trainable params: 5,248,906\n",
      "Non-trainable params: 0\n",
      "_________________________________________________________________\n"
     ]
    }
   ],
   "source": [
    "inputs = keras.Input(shape=(32, 32, 3))\n",
    "x = inputs\n",
    "#x = layers.MaxPooling2D(2)(x)\n",
    "x = layers.Conv2D(128, 3, activation='relu', padding=\"same\")(x)\n",
    "x = layers.Conv2D(128, 3, activation='relu', padding=\"same\")(x)\n",
    "x = layers.Conv2D(128, 3, activation='relu', padding=\"same\")(x)\n",
    "x = layers.Conv2D(128, 3, activation='relu', padding=\"same\")(x)\n",
    "x = layers.Conv2D(128, 3, activation='relu', padding=\"same\")(x)\n",
    "x = layers.Conv2D(128, 3, activation='relu', padding=\"same\")(x)\n",
    "x = layers.Conv2D(128, 3, activation='relu', padding=\"same\")(x)\n",
    "x = layers.Conv2D(128, 3, activation='relu', padding=\"same\")(x)\n",
    "x = layers.MaxPooling2D(2)(x)\n",
    "\n",
    "x = layers.Flatten()(x)\n",
    "x = layers.Dense(128)(x)\n",
    "x = layers.Dense(128)(x)\n",
    "x = layers.Dense(10, activation='softmax')(x)\n",
    "outputs = x\n",
    "\n",
    "model = keras.Model(inputs, outputs)\n",
    "model.summary()"
   ]
  },
  {
   "cell_type": "code",
   "execution_count": null,
   "metadata": {
    "colab": {
     "base_uri": "https://localhost:8080/",
     "height": 260
    },
    "id": "YAOn1oMI1SuD",
    "outputId": "632554c8-3b30-4cf2-e796-671a77cd077a"
   },
   "outputs": [
    {
     "name": "stdout",
     "output_type": "stream",
     "text": [
      "Train on 50000 samples\n",
      "Epoch 1/5\n",
      "50000/50000 [==============================] - 33s 656us/sample - loss: 2.3113 - accuracy: 0.0998\n",
      "Epoch 2/5\n",
      "50000/50000 [==============================] - 32s 645us/sample - loss: 2.3035 - accuracy: 0.0993\n",
      "Epoch 3/5\n",
      "50000/50000 [==============================] - 32s 641us/sample - loss: 2.3032 - accuracy: 0.1007\n",
      "Epoch 4/5\n",
      "50000/50000 [==============================] - 32s 641us/sample - loss: 2.3033 - accuracy: 0.0980\n",
      "Epoch 5/5\n",
      "50000/50000 [==============================] - 32s 642us/sample - loss: 2.3031 - accuracy: 0.0993\n",
      "10000/1 - 3s - loss: 2.3057 - accuracy: 0.1000\n"
     ]
    },
    {
     "data": {
      "text/plain": [
       "[2.3031945434570313, 0.1]"
      ]
     },
     "execution_count": 11,
     "metadata": {
      "tags": []
     },
     "output_type": "execute_result"
    }
   ],
   "source": [
    "model.compile(optimizer='adam',\n",
    "              loss='sparse_categorical_crossentropy',\n",
    "              metrics=['accuracy'])\n",
    "model.fit(x_train, y_train, epochs=5)\n",
    "model.evaluate(x_test,  y_test, verbose=2)"
   ]
  },
  {
   "cell_type": "code",
   "execution_count": null,
   "metadata": {
    "colab": {
     "base_uri": "https://localhost:8080/",
     "height": 857
    },
    "id": "5LOKJ9Ku1XBq",
    "outputId": "a019aa5f-d4e2-4011-a80b-00fc6faf7aa3"
   },
   "outputs": [
    {
     "name": "stdout",
     "output_type": "stream",
     "text": [
      "Model: \"model_2\"\n",
      "__________________________________________________________________________________________________\n",
      "Layer (type)                    Output Shape         Param #     Connected to                     \n",
      "==================================================================================================\n",
      "input_3 (InputLayer)            [(None, 32, 32, 3)]  0                                            \n",
      "__________________________________________________________________________________________________\n",
      "conv2d_14 (Conv2D)              (None, 32, 32, 128)  3584        input_3[0][0]                    \n",
      "__________________________________________________________________________________________________\n",
      "conv2d_15 (Conv2D)              (None, 32, 32, 128)  147584      conv2d_14[0][0]                  \n",
      "__________________________________________________________________________________________________\n",
      "conv2d_16 (Conv2D)              (None, 32, 32, 128)  147584      conv2d_15[0][0]                  \n",
      "__________________________________________________________________________________________________\n",
      "conv2d_17 (Conv2D)              (None, 32, 32, 128)  147584      conv2d_16[0][0]                  \n",
      "__________________________________________________________________________________________________\n",
      "tf_op_layer_add (TensorFlowOpLa [(None, 32, 32, 128) 0           conv2d_15[0][0]                  \n",
      "                                                                 conv2d_17[0][0]                  \n",
      "__________________________________________________________________________________________________\n",
      "conv2d_18 (Conv2D)              (None, 32, 32, 128)  147584      tf_op_layer_add[0][0]            \n",
      "__________________________________________________________________________________________________\n",
      "conv2d_19 (Conv2D)              (None, 32, 32, 128)  147584      conv2d_18[0][0]                  \n",
      "__________________________________________________________________________________________________\n",
      "tf_op_layer_add_1 (TensorFlowOp [(None, 32, 32, 128) 0           tf_op_layer_add[0][0]            \n",
      "                                                                 conv2d_19[0][0]                  \n",
      "__________________________________________________________________________________________________\n",
      "conv2d_20 (Conv2D)              (None, 32, 32, 128)  147584      tf_op_layer_add_1[0][0]          \n",
      "__________________________________________________________________________________________________\n",
      "conv2d_21 (Conv2D)              (None, 32, 32, 128)  147584      conv2d_20[0][0]                  \n",
      "__________________________________________________________________________________________________\n",
      "tf_op_layer_add_2 (TensorFlowOp [(None, 32, 32, 128) 0           tf_op_layer_add_1[0][0]          \n",
      "                                                                 conv2d_21[0][0]                  \n",
      "__________________________________________________________________________________________________\n",
      "max_pooling2d_3 (MaxPooling2D)  (None, 16, 16, 128)  0           tf_op_layer_add_2[0][0]          \n",
      "__________________________________________________________________________________________________\n",
      "flatten_2 (Flatten)             (None, 32768)        0           max_pooling2d_3[0][0]            \n",
      "__________________________________________________________________________________________________\n",
      "dense_6 (Dense)                 (None, 128)          4194432     flatten_2[0][0]                  \n",
      "__________________________________________________________________________________________________\n",
      "dense_7 (Dense)                 (None, 128)          16512       dense_6[0][0]                    \n",
      "__________________________________________________________________________________________________\n",
      "dense_8 (Dense)                 (None, 10)           1290        dense_7[0][0]                    \n",
      "==================================================================================================\n",
      "Total params: 5,248,906\n",
      "Trainable params: 5,248,906\n",
      "Non-trainable params: 0\n",
      "__________________________________________________________________________________________________\n"
     ]
    }
   ],
   "source": [
    "inputs = keras.Input(shape=(32, 32, 3))\n",
    "x = inputs\n",
    "#x = layers.MaxPooling2D(2)(x)\n",
    "_x = layers.Conv2D(128, 3, activation='relu', padding=\"same\")(x)\n",
    "_x = layers.Conv2D(128, 3, activation='relu', padding=\"same\")(_x)\n",
    "x = _x\n",
    "_x = layers.Conv2D(128, 3, activation='relu', padding=\"same\")(x)\n",
    "_x = layers.Conv2D(128, 3, activation='relu', padding=\"same\")(_x)\n",
    "x = x + _x\n",
    "_x = layers.Conv2D(128, 3, activation='relu', padding=\"same\")(x)\n",
    "_x = layers.Conv2D(128, 3, activation='relu', padding=\"same\")(_x)\n",
    "x = x + _x\n",
    "_x = layers.Conv2D(128, 3, activation='relu', padding=\"same\")(x)\n",
    "_x = layers.Conv2D(128, 3, activation='relu', padding=\"same\")(_x)\n",
    "x = x + _x\n",
    "x = layers.MaxPooling2D(2)(x)\n",
    "\n",
    "x = layers.Flatten()(x)\n",
    "x = layers.Dense(128)(x)\n",
    "x = layers.Dense(128)(x)\n",
    "x = layers.Dense(10, activation='softmax')(x)\n",
    "outputs = x\n",
    "\n",
    "model = keras.Model(inputs, outputs)\n",
    "model.summary()"
   ]
  },
  {
   "cell_type": "code",
   "execution_count": null,
   "metadata": {
    "colab": {
     "base_uri": "https://localhost:8080/",
     "height": 260
    },
    "id": "x136l5Yg2WoM",
    "outputId": "e8eb053d-d0fa-4998-b2e1-671ebe7ba3cf"
   },
   "outputs": [
    {
     "name": "stdout",
     "output_type": "stream",
     "text": [
      "Train on 50000 samples\n",
      "Epoch 1/5\n",
      "50000/50000 [==============================] - 34s 680us/sample - loss: 1.6324 - accuracy: 0.4205\n",
      "Epoch 2/5\n",
      "50000/50000 [==============================] - 33s 667us/sample - loss: 1.1720 - accuracy: 0.5896\n",
      "Epoch 3/5\n",
      "50000/50000 [==============================] - 33s 665us/sample - loss: 1.0026 - accuracy: 0.6489\n",
      "Epoch 4/5\n",
      "50000/50000 [==============================] - 33s 663us/sample - loss: 0.8923 - accuracy: 0.6879\n",
      "Epoch 5/5\n",
      "50000/50000 [==============================] - 33s 666us/sample - loss: 0.8083 - accuracy: 0.7175\n",
      "10000/1 - 3s - loss: 0.9547 - accuracy: 0.6630\n"
     ]
    },
    {
     "data": {
      "text/plain": [
       "[0.9831310911178589, 0.663]"
      ]
     },
     "execution_count": 13,
     "metadata": {
      "tags": []
     },
     "output_type": "execute_result"
    }
   ],
   "source": [
    "model.compile(optimizer='adam',\n",
    "              loss='sparse_categorical_crossentropy',\n",
    "              metrics=['accuracy'])\n",
    "model.fit(x_train, y_train, epochs=5)\n",
    "model.evaluate(x_test,  y_test, verbose=2)"
   ]
  },
  {
   "cell_type": "markdown",
   "metadata": {
    "id": "lWJlL8Y0YhUJ"
   },
   "source": [
    "# 3. Pooling이 있는 SKipConnection"
   ]
  },
  {
   "cell_type": "code",
   "execution_count": null,
   "metadata": {
    "colab": {
     "base_uri": "https://localhost:8080/",
     "height": 932
    },
    "id": "xdqyf3fa2XFz",
    "outputId": "976a2cd2-5094-441c-9f1d-f1accc4d7c6b"
   },
   "outputs": [
    {
     "name": "stdout",
     "output_type": "stream",
     "text": [
      "Model: \"model_3\"\n",
      "__________________________________________________________________________________________________\n",
      "Layer (type)                    Output Shape         Param #     Connected to                     \n",
      "==================================================================================================\n",
      "input_4 (InputLayer)            [(None, 32, 32, 3)]  0                                            \n",
      "__________________________________________________________________________________________________\n",
      "conv2d_22 (Conv2D)              (None, 32, 32, 128)  3584        input_4[0][0]                    \n",
      "__________________________________________________________________________________________________\n",
      "conv2d_23 (Conv2D)              (None, 32, 32, 128)  147584      conv2d_22[0][0]                  \n",
      "__________________________________________________________________________________________________\n",
      "conv2d_24 (Conv2D)              (None, 32, 32, 128)  147584      conv2d_23[0][0]                  \n",
      "__________________________________________________________________________________________________\n",
      "conv2d_25 (Conv2D)              (None, 32, 32, 128)  147584      conv2d_24[0][0]                  \n",
      "__________________________________________________________________________________________________\n",
      "tf_op_layer_add_3 (TensorFlowOp [(None, 32, 32, 128) 0           conv2d_23[0][0]                  \n",
      "                                                                 conv2d_25[0][0]                  \n",
      "__________________________________________________________________________________________________\n",
      "max_pooling2d_4 (MaxPooling2D)  (None, 16, 16, 128)  0           tf_op_layer_add_3[0][0]          \n",
      "__________________________________________________________________________________________________\n",
      "conv2d_26 (Conv2D)              (None, 16, 16, 128)  147584      max_pooling2d_4[0][0]            \n",
      "__________________________________________________________________________________________________\n",
      "conv2d_27 (Conv2D)              (None, 16, 16, 128)  147584      conv2d_26[0][0]                  \n",
      "__________________________________________________________________________________________________\n",
      "tf_op_layer_add_4 (TensorFlowOp [(None, 16, 16, 128) 0           max_pooling2d_4[0][0]            \n",
      "                                                                 conv2d_27[0][0]                  \n",
      "__________________________________________________________________________________________________\n",
      "max_pooling2d_5 (MaxPooling2D)  (None, 8, 8, 128)    0           tf_op_layer_add_4[0][0]          \n",
      "__________________________________________________________________________________________________\n",
      "conv2d_28 (Conv2D)              (None, 8, 8, 128)    147584      max_pooling2d_5[0][0]            \n",
      "__________________________________________________________________________________________________\n",
      "conv2d_29 (Conv2D)              (None, 8, 8, 128)    147584      conv2d_28[0][0]                  \n",
      "__________________________________________________________________________________________________\n",
      "tf_op_layer_add_5 (TensorFlowOp [(None, 8, 8, 128)]  0           max_pooling2d_5[0][0]            \n",
      "                                                                 conv2d_29[0][0]                  \n",
      "__________________________________________________________________________________________________\n",
      "max_pooling2d_6 (MaxPooling2D)  (None, 4, 4, 128)    0           tf_op_layer_add_5[0][0]          \n",
      "__________________________________________________________________________________________________\n",
      "flatten_3 (Flatten)             (None, 2048)         0           max_pooling2d_6[0][0]            \n",
      "__________________________________________________________________________________________________\n",
      "dense_9 (Dense)                 (None, 128)          262272      flatten_3[0][0]                  \n",
      "__________________________________________________________________________________________________\n",
      "dense_10 (Dense)                (None, 128)          16512       dense_9[0][0]                    \n",
      "__________________________________________________________________________________________________\n",
      "dense_11 (Dense)                (None, 10)           1290        dense_10[0][0]                   \n",
      "==================================================================================================\n",
      "Total params: 1,316,746\n",
      "Trainable params: 1,316,746\n",
      "Non-trainable params: 0\n",
      "__________________________________________________________________________________________________\n"
     ]
    }
   ],
   "source": [
    "inputs = keras.Input(shape=(32, 32, 3))\n",
    "x = inputs\n",
    "#x = layers.MaxPooling2D(2)(x)\n",
    "_x = layers.Conv2D(128, 3, activation='relu', padding=\"same\")(x)\n",
    "_x = layers.Conv2D(128, 3, activation='relu', padding=\"same\")(_x)\n",
    "x = _x\n",
    "_x = layers.Conv2D(128, 3, activation='relu', padding=\"same\")(x)\n",
    "_x = layers.Conv2D(128, 3, activation='relu', padding=\"same\")(_x)\n",
    "x = x + _x\n",
    "x = layers.MaxPooling2D(2)(x)\n",
    "_x = layers.Conv2D(128, 3, activation='relu', padding=\"same\")(x)\n",
    "_x = layers.Conv2D(128, 3, activation='relu', padding=\"same\")(_x)\n",
    "x = x + _x\n",
    "x = layers.MaxPooling2D(2)(x)\n",
    "_x = layers.Conv2D(128, 3, activation='relu', padding=\"same\")(x)\n",
    "_x = layers.Conv2D(128, 3, activation='relu', padding=\"same\")(_x)\n",
    "x = x + _x\n",
    "x = layers.MaxPooling2D(2)(x)\n",
    "\n",
    "x = layers.Flatten()(x)\n",
    "x = layers.Dense(128)(x)\n",
    "x = layers.Dense(128)(x)\n",
    "x = layers.Dense(10, activation='softmax')(x)\n",
    "outputs = x\n",
    "\n",
    "model = keras.Model(inputs, outputs)\n",
    "model.summary()"
   ]
  },
  {
   "cell_type": "code",
   "execution_count": null,
   "metadata": {
    "colab": {
     "base_uri": "https://localhost:8080/",
     "height": 260
    },
    "id": "zh_cNQFoWsx5",
    "outputId": "c59eea00-23bd-49d6-9304-26ae9f713012"
   },
   "outputs": [
    {
     "name": "stdout",
     "output_type": "stream",
     "text": [
      "Train on 50000 samples\n",
      "Epoch 1/5\n",
      "50000/50000 [==============================] - 22s 438us/sample - loss: 1.3663 - accuracy: 0.5045\n",
      "Epoch 2/5\n",
      "50000/50000 [==============================] - 21s 420us/sample - loss: 0.8867 - accuracy: 0.6915\n",
      "Epoch 3/5\n",
      "50000/50000 [==============================] - 21s 420us/sample - loss: 0.7260 - accuracy: 0.7456\n",
      "Epoch 4/5\n",
      "50000/50000 [==============================] - 21s 422us/sample - loss: 0.6218 - accuracy: 0.7824\n",
      "Epoch 5/5\n",
      "50000/50000 [==============================] - 21s 423us/sample - loss: 0.5350 - accuracy: 0.8134\n",
      "10000/1 - 2s - loss: 0.6408 - accuracy: 0.7595\n"
     ]
    },
    {
     "data": {
      "text/plain": [
       "[0.7477127169132233, 0.7595]"
      ]
     },
     "execution_count": 15,
     "metadata": {
      "tags": []
     },
     "output_type": "execute_result"
    }
   ],
   "source": [
    "model.compile(optimizer='adam',\n",
    "              loss='sparse_categorical_crossentropy',\n",
    "              metrics=['accuracy'])\n",
    "model.fit(x_train, y_train, epochs=5)\n",
    "model.evaluate(x_test,  y_test, verbose=2)"
   ]
  },
  {
   "cell_type": "code",
   "execution_count": null,
   "metadata": {
    "id": "w07_EJ-LWrT6"
   },
   "outputs": [],
   "source": []
  }
 ],
 "metadata": {
  "accelerator": "GPU",
  "colab": {
   "provenance": []
  },
  "kernelspec": {
   "display_name": "Python 3 (ipykernel)",
   "language": "python",
   "name": "python3"
  },
  "language_info": {
   "codemirror_mode": {
    "name": "ipython",
    "version": 3
   },
   "file_extension": ".py",
   "mimetype": "text/x-python",
   "name": "python",
   "nbconvert_exporter": "python",
   "pygments_lexer": "ipython3",
   "version": "3.9.15"
  }
 },
 "nbformat": 4,
 "nbformat_minor": 1
}
