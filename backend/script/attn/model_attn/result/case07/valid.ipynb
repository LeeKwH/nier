{
 "cells": [
  {
   "cell_type": "code",
   "execution_count": 1,
   "metadata": {},
   "outputs": [],
   "source": [
    "# In order to calculate corr, rmse, cosine similarity, and pearson correlation, import the following libraries\n",
    "import numpy as np\n",
    "import pandas as pd\n",
    "import matplotlib.pyplot as plt\n",
    "import seaborn as sns\n",
    "from sklearn.metrics import mean_squared_error\n",
    "from sklearn.metrics import mean_absolute_error\n",
    "from sklearn.metrics import r2_score\n",
    "from scipy.stats import pearsonr\n",
    "from scipy.stats import spearmanr\n",
    "from scipy.spatial.distance import cosine\n",
    "from sklearn.metrics.pairwise import cosine_similarity\n",
    "\n",
    "import glob"
   ]
  },
  {
   "cell_type": "code",
   "execution_count": 2,
   "metadata": {},
   "outputs": [],
   "source": [
    "result_list = glob.glob('./낙동강*.csv')"
   ]
  },
  {
   "cell_type": "code",
   "execution_count": 42,
   "metadata": {},
   "outputs": [],
   "source": [
    "# make data frame with columns : corr, rmse, cosine similarity, and pearson correlation\n",
    "df = pd.DataFrame(columns=['corr', 'rmse', 'cosine_sim', 'pearson_corr', 'spearman_corr'])\n",
    "\n",
    "for point_path in result_list:\n",
    "\n",
    "    point_name = point_path.split('\\\\')[-1].split('.')[0]\n",
    "\n",
    "    data = pd.read_csv(point_path, encoding='cp949', index_col=0, parse_dates=True)\n",
    "    data = data.loc['2020-01-01':]\n",
    "    data.columns = ['pred', 'real']\n",
    "\n",
    "    # calculate corr, rmse, cosine similarity, and pearson correlation\n",
    "    corr = data.corr(method='pearson')\n",
    "    rmse = np.sqrt(mean_squared_error(data['real'], data['pred']))\n",
    "    cosine_sim = cosine_similarity(data['real'].values.reshape(1, -1), data['pred'].values.reshape(1, -1))\n",
    "    pearson_corr = pearsonr(data['real'], data['pred'])\n",
    "    spearman_corr = spearmanr(data['real'], data['pred'])\n",
    "\n",
    "    # append result to data frame\n",
    "    # 1. index is point name\n",
    "    # 2. columns are corr, rmse, cosine similarity, and pearson correlation\n",
    "    df.loc[point_name] = [corr.iloc[0,1], rmse, cosine_sim[0][0], pearson_corr[0], spearman_corr[0]]"
   ]
  },
  {
   "cell_type": "code",
   "execution_count": 44,
   "metadata": {},
   "outputs": [],
   "source": [
    "df.to_csv('./result.csv', encoding='cp949')"
   ]
  },
  {
   "cell_type": "code",
   "execution_count": 28,
   "metadata": {},
   "outputs": [
    {
     "data": {
      "text/html": [
       "<div>\n",
       "<style scoped>\n",
       "    .dataframe tbody tr th:only-of-type {\n",
       "        vertical-align: middle;\n",
       "    }\n",
       "\n",
       "    .dataframe tbody tr th {\n",
       "        vertical-align: top;\n",
       "    }\n",
       "\n",
       "    .dataframe thead th {\n",
       "        text-align: right;\n",
       "    }\n",
       "</style>\n",
       "<table border=\"1\" class=\"dataframe\">\n",
       "  <thead>\n",
       "    <tr style=\"text-align: right;\">\n",
       "      <th></th>\n",
       "      <th>corr</th>\n",
       "      <th>rmse</th>\n",
       "      <th>cosine_sim</th>\n",
       "      <th>pearson_corr</th>\n",
       "      <th>spearman_corr</th>\n",
       "    </tr>\n",
       "  </thead>\n",
       "  <tbody>\n",
       "  </tbody>\n",
       "</table>\n",
       "</div>"
      ],
      "text/plain": [
       "Empty DataFrame\n",
       "Columns: [corr, rmse, cosine_sim, pearson_corr, spearman_corr]\n",
       "Index: []"
      ]
     },
     "execution_count": 28,
     "metadata": {},
     "output_type": "execute_result"
    }
   ],
   "source": [
    "df"
   ]
  },
  {
   "cell_type": "code",
   "execution_count": null,
   "metadata": {},
   "outputs": [],
   "source": []
  }
 ],
 "metadata": {
  "kernelspec": {
   "display_name": "base",
   "language": "python",
   "name": "python3"
  },
  "language_info": {
   "codemirror_mode": {
    "name": "ipython",
    "version": 3
   },
   "file_extension": ".py",
   "mimetype": "text/x-python",
   "name": "python",
   "nbconvert_exporter": "python",
   "pygments_lexer": "ipython3",
   "version": "3.9.12"
  },
  "orig_nbformat": 4
 },
 "nbformat": 4,
 "nbformat_minor": 2
}
