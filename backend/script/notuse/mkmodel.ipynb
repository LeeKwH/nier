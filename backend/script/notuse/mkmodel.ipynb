{
 "cells": [
  {
   "cell_type": "code",
   "execution_count": 89,
   "metadata": {},
   "outputs": [],
   "source": [
    "import argparse, sys, os, re, json,pandas as pd, numpy as np "
   ]
  },
  {
   "cell_type": "code",
   "execution_count": 90,
   "metadata": {},
   "outputs": [],
   "source": [
    "import copy"
   ]
  },
  {
   "cell_type": "code",
   "execution_count": 91,
   "metadata": {},
   "outputs": [],
   "source": [
    "sys.path.append('./')\n",
    "nowpath = os.getcwd()"
   ]
  },
  {
   "cell_type": "code",
   "execution_count": 92,
   "metadata": {},
   "outputs": [],
   "source": [
    "jsondic = json.load(open('D:\\\\cyj\\\\00_project\\\\02_algaeAI\\\\2023\\\\00_dev\\\\nier\\\\backend\\\\.user\\\\admin\\\\.model\\\\modelTest2\\\\modelinfo.json'))"
   ]
  },
  {
   "cell_type": "code",
   "execution_count": 93,
   "metadata": {},
   "outputs": [],
   "source": [
    "jsonlink = jsondic['link']"
   ]
  },
  {
   "cell_type": "code",
   "execution_count": 94,
   "metadata": {},
   "outputs": [
    {
     "data": {
      "text/plain": [
       "[{'id': 'init1', 'source': 'input_col1', 'target': 'Conv3d_1'},\n",
       " {'id': 'e1,1,1,Conv3d_1,1,2,Conv1d_1,1,5,Merge_1,1,6,Tanh_1,1,7,Merge_2,1,8,Linear_1,1,9,Linear_25_6',\n",
       "  'source': 'Linear_1',\n",
       "  'target': 'Linear_2'},\n",
       " {'id': 'e1,1,1,Conv3d_1,1,2,Conv1d_1,1,5,Merge_1,1,6,Tanh_1,1,7,Merge_2,1,8,Linear_1,1,9,Linear_24_5',\n",
       "  'source': 'Merge_2',\n",
       "  'target': 'Linear_1'},\n",
       " {'id': 'e1,1,1,Conv3d_1,1,2,Conv1d_1,1,5,Merge_1,1,6,Tanh_1,1,7,Merge_2,1,8,Linear_1,1,9,Linear_23_4',\n",
       "  'source': 'Tanh_1',\n",
       "  'target': 'Merge_2'},\n",
       " {'id': 'e1,1,1,Conv3d_1,1,2,Conv1d_1,1,5,Merge_1,1,6,Tanh_1,1,7,Merge_2,1,8,Linear_1,1,9,Linear_22_3',\n",
       "  'source': 'Merge_1',\n",
       "  'target': 'Tanh_1'},\n",
       " {'id': 'e1,1,1,Conv3d_1,1,2,Conv1d_1,1,5,Merge_1,1,6,Tanh_1,1,7,Merge_2,1,8,Linear_1,1,9,Linear_21_2',\n",
       "  'source': 'Conv1d_1',\n",
       "  'target': 'Merge_1'},\n",
       " {'id': 'e1,1,1,Conv3d_1,1,2,Conv1d_1,1,5,Merge_1,1,6,Tanh_1,1,7,Merge_2,1,8,Linear_1,1,9,Linear_20_1',\n",
       "  'source': 'Conv3d_1',\n",
       "  'target': 'Conv1d_1'},\n",
       " {'id': 'init2', 'source': 'input_col2', 'target': 'Conv3d_2'},\n",
       " {'id': 'e2,2,3,Conv3d_2,2,4,MaxPool1d_10_1',\n",
       "  'source': 'Conv3d_2',\n",
       "  'target': 'MaxPool1d_1'},\n",
       " {'id': 'init3', 'source': 'input_col3', 'target': 'Tanh_2'},\n",
       " {'id': 'e3,3,2,Tanh_2,3,4,Dropout_10_1',\n",
       "  'source': 'Tanh_2',\n",
       "  'target': 'Dropout_1'},\n",
       " {'id': 'merge_2_Merge_1', 'source': 'MaxPool1d_1', 'target': 'Merge_1'},\n",
       " {'id': 'merge_3_Merge_2', 'source': 'Dropout_1', 'target': 'Merge_2'}]"
      ]
     },
     "execution_count": 94,
     "metadata": {},
     "output_type": "execute_result"
    }
   ],
   "source": [
    "jsonlink"
   ]
  },
  {
   "cell_type": "code",
   "execution_count": 95,
   "metadata": {},
   "outputs": [],
   "source": [
    "deep_link = copy.deepcopy(jsonlink)"
   ]
  },
  {
   "cell_type": "code",
   "execution_count": 96,
   "metadata": {},
   "outputs": [],
   "source": [
    "cols = {}\n",
    "mers = {}"
   ]
  },
  {
   "cell_type": "code",
   "execution_count": 97,
   "metadata": {},
   "outputs": [],
   "source": [
    "for link in jsonlink:\n",
    "    if 'input' in link['source']:\n",
    "        cols[link['source'][-1]] = [link['target']]\n",
    "        deep_link.remove(link)\n",
    "    elif 'Merge' in link['source']:\n",
    "        mers[link['source']]={'row':0,'list_cols':[],'following_sequential':[link['target']]}\n",
    "        deep_link.remove(link)"
   ]
  },
  {
   "cell_type": "code",
   "execution_count": 98,
   "metadata": {},
   "outputs": [
    {
     "data": {
      "text/plain": [
       "[{'id': 'e1,1,1,Conv3d_1,1,2,Conv1d_1,1,5,Merge_1,1,6,Tanh_1,1,7,Merge_2,1,8,Linear_1,1,9,Linear_25_6',\n",
       "  'source': 'Linear_1',\n",
       "  'target': 'Linear_2'},\n",
       " {'id': 'e1,1,1,Conv3d_1,1,2,Conv1d_1,1,5,Merge_1,1,6,Tanh_1,1,7,Merge_2,1,8,Linear_1,1,9,Linear_23_4',\n",
       "  'source': 'Tanh_1',\n",
       "  'target': 'Merge_2'},\n",
       " {'id': 'e1,1,1,Conv3d_1,1,2,Conv1d_1,1,5,Merge_1,1,6,Tanh_1,1,7,Merge_2,1,8,Linear_1,1,9,Linear_21_2',\n",
       "  'source': 'Conv1d_1',\n",
       "  'target': 'Merge_1'},\n",
       " {'id': 'e1,1,1,Conv3d_1,1,2,Conv1d_1,1,5,Merge_1,1,6,Tanh_1,1,7,Merge_2,1,8,Linear_1,1,9,Linear_20_1',\n",
       "  'source': 'Conv3d_1',\n",
       "  'target': 'Conv1d_1'},\n",
       " {'id': 'e2,2,3,Conv3d_2,2,4,MaxPool1d_10_1',\n",
       "  'source': 'Conv3d_2',\n",
       "  'target': 'MaxPool1d_1'},\n",
       " {'id': 'e3,3,2,Tanh_2,3,4,Dropout_10_1',\n",
       "  'source': 'Tanh_2',\n",
       "  'target': 'Dropout_1'},\n",
       " {'id': 'merge_2_Merge_1', 'source': 'MaxPool1d_1', 'target': 'Merge_1'},\n",
       " {'id': 'merge_3_Merge_2', 'source': 'Dropout_1', 'target': 'Merge_2'}]"
      ]
     },
     "execution_count": 98,
     "metadata": {},
     "output_type": "execute_result"
    }
   ],
   "source": [
    "deep_link"
   ]
  },
  {
   "cell_type": "code",
   "execution_count": 75,
   "metadata": {},
   "outputs": [
    {
     "data": {
      "text/plain": [
       "{'1': ['Conv3d_1'], '2': ['Conv3d_2'], '3': ['Tanh_2']}"
      ]
     },
     "execution_count": 75,
     "metadata": {},
     "output_type": "execute_result"
    }
   ],
   "source": [
    "cols"
   ]
  },
  {
   "cell_type": "code",
   "execution_count": 76,
   "metadata": {},
   "outputs": [
    {
     "data": {
      "text/plain": [
       "{'Merge_2': {'row': 0, 'list_cols': [], 'following_sequential': ['Linear_1']},\n",
       " 'Merge_1': {'row': 0, 'list_cols': [], 'following_sequential': ['Tanh_1']}}"
      ]
     },
     "execution_count": 76,
     "metadata": {},
     "output_type": "execute_result"
    }
   ],
   "source": [
    "mers"
   ]
  },
  {
   "cell_type": "code",
   "execution_count": 99,
   "metadata": {},
   "outputs": [],
   "source": [
    "jsonlink = deep_link"
   ]
  },
  {
   "cell_type": "code",
   "execution_count": 100,
   "metadata": {},
   "outputs": [],
   "source": [
    "for key in mers.keys():\n",
    "    for source in mers[key]['following_sequential']:\n",
    "        for link in jsondic['link']:\n",
    "            if source == link['source'] and 'Merge' not in link['target']:\n",
    "                mers[key]['following_sequential'].append(link['target'])\n",
    "                deep_link.remove(link)\n",
    "            elif source == link['source'] and 'Merge' in link['target']:\n",
    "                deep_link.remove(link)"
   ]
  },
  {
   "cell_type": "code",
   "execution_count": 101,
   "metadata": {},
   "outputs": [
    {
     "data": {
      "text/plain": [
       "{'Merge_2': {'row': 0,\n",
       "  'list_cols': [],\n",
       "  'following_sequential': ['Linear_1', 'Linear_2']},\n",
       " 'Merge_1': {'row': 0, 'list_cols': [], 'following_sequential': ['Tanh_1']}}"
      ]
     },
     "execution_count": 101,
     "metadata": {},
     "output_type": "execute_result"
    }
   ],
   "source": [
    "mers"
   ]
  },
  {
   "cell_type": "code",
   "execution_count": 102,
   "metadata": {},
   "outputs": [
    {
     "data": {
      "text/plain": [
       "{'1': ['Conv3d_1'], '2': ['Conv3d_2'], '3': ['Tanh_2']}"
      ]
     },
     "execution_count": 102,
     "metadata": {},
     "output_type": "execute_result"
    }
   ],
   "source": [
    "cols"
   ]
  },
  {
   "cell_type": "code",
   "execution_count": 103,
   "metadata": {},
   "outputs": [
    {
     "data": {
      "text/plain": [
       "[{'id': 'e1,1,1,Conv3d_1,1,2,Conv1d_1,1,5,Merge_1,1,6,Tanh_1,1,7,Merge_2,1,8,Linear_1,1,9,Linear_21_2',\n",
       "  'source': 'Conv1d_1',\n",
       "  'target': 'Merge_1'},\n",
       " {'id': 'e1,1,1,Conv3d_1,1,2,Conv1d_1,1,5,Merge_1,1,6,Tanh_1,1,7,Merge_2,1,8,Linear_1,1,9,Linear_20_1',\n",
       "  'source': 'Conv3d_1',\n",
       "  'target': 'Conv1d_1'},\n",
       " {'id': 'e2,2,3,Conv3d_2,2,4,MaxPool1d_10_1',\n",
       "  'source': 'Conv3d_2',\n",
       "  'target': 'MaxPool1d_1'},\n",
       " {'id': 'e3,3,2,Tanh_2,3,4,Dropout_10_1',\n",
       "  'source': 'Tanh_2',\n",
       "  'target': 'Dropout_1'},\n",
       " {'id': 'merge_2_Merge_1', 'source': 'MaxPool1d_1', 'target': 'Merge_1'},\n",
       " {'id': 'merge_3_Merge_2', 'source': 'Dropout_1', 'target': 'Merge_2'}]"
      ]
     },
     "execution_count": 103,
     "metadata": {},
     "output_type": "execute_result"
    }
   ],
   "source": [
    "deep_link"
   ]
  },
  {
   "cell_type": "code",
   "execution_count": 104,
   "metadata": {},
   "outputs": [],
   "source": [
    "for link in deep_link:\n",
    "    if 'Merge' not in link['target']:\n",
    "        cols[link['id'].split(',')[0].split('e')[-1]].append(link['target'])"
   ]
  },
  {
   "cell_type": "code",
   "execution_count": 106,
   "metadata": {},
   "outputs": [
    {
     "data": {
      "text/plain": [
       "{'1': ['Conv3d_1', 'Conv1d_1'],\n",
       " '2': ['Conv3d_2', 'MaxPool1d_1'],\n",
       " '3': ['Tanh_2', 'Dropout_1']}"
      ]
     },
     "execution_count": 106,
     "metadata": {},
     "output_type": "execute_result"
    }
   ],
   "source": [
    "cols"
   ]
  },
  {
   "cell_type": "code",
   "execution_count": 107,
   "metadata": {},
   "outputs": [
    {
     "data": {
      "text/plain": [
       "{'Merge_2': {'row': 0,\n",
       "  'list_cols': [],\n",
       "  'following_sequential': ['Linear_1', 'Linear_2']},\n",
       " 'Merge_1': {'row': 0, 'list_cols': [], 'following_sequential': ['Tanh_1']}}"
      ]
     },
     "execution_count": 107,
     "metadata": {},
     "output_type": "execute_result"
    }
   ],
   "source": [
    "mers"
   ]
  },
  {
   "cell_type": "code",
   "execution_count": 109,
   "metadata": {},
   "outputs": [],
   "source": [
    "jsonmodel = jsondic['model']"
   ]
  },
  {
   "cell_type": "code",
   "execution_count": 118,
   "metadata": {},
   "outputs": [],
   "source": [
    "jsoncolrow = {x[2]:[x[1],x[0]] for x in jsondic['colrow']}"
   ]
  },
  {
   "cell_type": "code",
   "execution_count": 119,
   "metadata": {},
   "outputs": [
    {
     "data": {
      "text/plain": [
       "{'Conv3d_1': [1, 1],\n",
       " 'Conv1d_1': [2, 1],\n",
       " 'Conv3d_2': [3, 2],\n",
       " 'MaxPool1d_1': [4, 2],\n",
       " 'Merge_1': [5, 1],\n",
       " 'Tanh_1': [6, 1],\n",
       " 'Tanh_2': [2, 3],\n",
       " 'Dropout_1': [4, 3],\n",
       " 'Merge_2': [7, 1],\n",
       " 'Linear_1': [8, 1],\n",
       " 'Linear_2': [9, 1]}"
      ]
     },
     "execution_count": 119,
     "metadata": {},
     "output_type": "execute_result"
    }
   ],
   "source": [
    "jsoncolrow"
   ]
  },
  {
   "cell_type": "code",
   "execution_count": 110,
   "metadata": {},
   "outputs": [
    {
     "data": {
      "text/plain": [
       "[{'id': 0,\n",
       "  'newc': 'Conv3d_1',\n",
       "  'column': 0,\n",
       "  'row': 0,\n",
       "  'data': {'out_channels': 1,\n",
       "   'kernel_size': 1,\n",
       "   'stride': 1,\n",
       "   'padding': 0,\n",
       "   'dilation': 1,\n",
       "   'groups': 0,\n",
       "   'bias': 'True',\n",
       "   'padding_mode': 'zeros'},\n",
       "  'type': 'Conv3d',\n",
       "  'del': 0},\n",
       " {'id': 1,\n",
       "  'newc': 'Conv1d_1',\n",
       "  'column': 1,\n",
       "  'row': 1,\n",
       "  'data': {'out_channels': 1,\n",
       "   'kernel_size': 1,\n",
       "   'stride': 1,\n",
       "   'padding': 0,\n",
       "   'dilation': 1,\n",
       "   'groups': 0,\n",
       "   'bias': 'True',\n",
       "   'padding_mode': 'zeros'},\n",
       "  'type': 'Conv1d',\n",
       "  'del': 1},\n",
       " {'id': 2,\n",
       "  'newc': 'Conv3d_2',\n",
       "  'column': 2,\n",
       "  'row': 2,\n",
       "  'data': {'out_channels': 1,\n",
       "   'kernel_size': 1,\n",
       "   'stride': 1,\n",
       "   'padding': 0,\n",
       "   'dilation': 1,\n",
       "   'groups': 0,\n",
       "   'bias': 'True',\n",
       "   'padding_mode': 'zeros'},\n",
       "  'type': 'Conv3d',\n",
       "  'del': 2},\n",
       " {'id': 3,\n",
       "  'newc': 'MaxPool1d_1',\n",
       "  'column': 3,\n",
       "  'row': 3,\n",
       "  'data': {'kernel_size': 1,\n",
       "   'stride': 1,\n",
       "   'padding': 0,\n",
       "   'dilation': 1,\n",
       "   'return_indices': 'True',\n",
       "   'ceil_mode': 'False'},\n",
       "  'type': 'MaxPool1d',\n",
       "  'del': 3},\n",
       " {'id': 4,\n",
       "  'newc': 'Merge_1',\n",
       "  'column': 4,\n",
       "  'row': 4,\n",
       "  'data': {},\n",
       "  'type': 'Merge',\n",
       "  'del': 4,\n",
       "  'merge': [1, 2]},\n",
       " {'id': 5,\n",
       "  'newc': 'Tanh_1',\n",
       "  'column': 5,\n",
       "  'row': 5,\n",
       "  'data': {},\n",
       "  'type': 'Tanh',\n",
       "  'del': 5},\n",
       " {'id': 6,\n",
       "  'newc': 'Tanh_2',\n",
       "  'column': 6,\n",
       "  'row': 6,\n",
       "  'data': {},\n",
       "  'type': 'Tanh',\n",
       "  'del': 6},\n",
       " {'id': 7,\n",
       "  'newc': 'Dropout_1',\n",
       "  'column': 7,\n",
       "  'row': 7,\n",
       "  'data': {'p': 0.5, 'inplace': 'False'},\n",
       "  'type': 'Dropout',\n",
       "  'del': 7},\n",
       " {'id': 8,\n",
       "  'newc': 'Merge_2',\n",
       "  'column': 8,\n",
       "  'row': 8,\n",
       "  'data': {},\n",
       "  'type': 'Merge',\n",
       "  'del': 8,\n",
       "  'merge': [1, 3]},\n",
       " {'id': 9,\n",
       "  'newc': 'Linear_1',\n",
       "  'column': 9,\n",
       "  'row': 9,\n",
       "  'data': {'out_features': 1, 'bias': 'True'},\n",
       "  'type': 'Linear',\n",
       "  'del': 9},\n",
       " {'id': 10,\n",
       "  'newc': 'Linear_2',\n",
       "  'column': 10,\n",
       "  'row': 10,\n",
       "  'data': {'out_features': 1, 'bias': 'True'},\n",
       "  'type': 'Linear',\n",
       "  'del': 10}]"
      ]
     },
     "execution_count": 110,
     "metadata": {},
     "output_type": "execute_result"
    }
   ],
   "source": [
    "jsonmodel"
   ]
  },
  {
   "cell_type": "code",
   "execution_count": 120,
   "metadata": {},
   "outputs": [],
   "source": [
    "for key in cols.keys():\n",
    "    layerlist = []\n",
    "    for layer in cols[key]:\n",
    "        for model in jsonmodel:\n",
    "            if layer == model['newc']:\n",
    "                layerlist.append({'type':model['type'],'coord':jsoncolrow[layer],'attributes':model['data']})\n",
    "    cols[key] = layerlist"
   ]
  },
  {
   "cell_type": "code",
   "execution_count": 121,
   "metadata": {},
   "outputs": [
    {
     "data": {
      "text/plain": [
       "{'1': [{'type': 'Conv3d',\n",
       "   'coord': [1, 1],\n",
       "   'attributes': {'out_channels': 1,\n",
       "    'kernel_size': 1,\n",
       "    'stride': 1,\n",
       "    'padding': 0,\n",
       "    'dilation': 1,\n",
       "    'groups': 0,\n",
       "    'bias': 'True',\n",
       "    'padding_mode': 'zeros'}},\n",
       "  {'type': 'Conv1d',\n",
       "   'coord': [2, 1],\n",
       "   'attributes': {'out_channels': 1,\n",
       "    'kernel_size': 1,\n",
       "    'stride': 1,\n",
       "    'padding': 0,\n",
       "    'dilation': 1,\n",
       "    'groups': 0,\n",
       "    'bias': 'True',\n",
       "    'padding_mode': 'zeros'}}],\n",
       " '2': [{'type': 'Conv3d',\n",
       "   'coord': [3, 2],\n",
       "   'attributes': {'out_channels': 1,\n",
       "    'kernel_size': 1,\n",
       "    'stride': 1,\n",
       "    'padding': 0,\n",
       "    'dilation': 1,\n",
       "    'groups': 0,\n",
       "    'bias': 'True',\n",
       "    'padding_mode': 'zeros'}},\n",
       "  {'type': 'MaxPool1d',\n",
       "   'coord': [4, 2],\n",
       "   'attributes': {'kernel_size': 1,\n",
       "    'stride': 1,\n",
       "    'padding': 0,\n",
       "    'dilation': 1,\n",
       "    'return_indices': 'True',\n",
       "    'ceil_mode': 'False'}}],\n",
       " '3': [{'type': 'Tanh', 'coord': [2, 3], 'attributes': {}},\n",
       "  {'type': 'Dropout',\n",
       "   'coord': [4, 3],\n",
       "   'attributes': {'p': 0.5, 'inplace': 'False'}}]}"
      ]
     },
     "execution_count": 121,
     "metadata": {},
     "output_type": "execute_result"
    }
   ],
   "source": [
    "cols"
   ]
  },
  {
   "cell_type": "code",
   "execution_count": 123,
   "metadata": {},
   "outputs": [
    {
     "name": "stdout",
     "output_type": "stream",
     "text": [
      "{'id': 4, 'newc': 'Merge_1', 'column': 4, 'row': 4, 'data': {}, 'type': 'Merge', 'del': 4, 'merge': [1, 2]}\n",
      "{'id': 8, 'newc': 'Merge_2', 'column': 8, 'row': 8, 'data': {}, 'type': 'Merge', 'del': 8, 'merge': [1, 3]}\n"
     ]
    }
   ],
   "source": [
    "for i in jsonmodel:\n",
    "    if 'Merge' in i['newc']:\n",
    "        print(i)"
   ]
  },
  {
   "cell_type": "code",
   "execution_count": 124,
   "metadata": {},
   "outputs": [],
   "source": [
    "for key in mers.keys():\n",
    "    mers[key]['row'] = jsoncolrow[key][0]\n",
    "    layerlist = []\n",
    "    for layer in mers[key]['following_sequential']:\n",
    "        for model in jsonmodel:\n",
    "            if model['newc'] == key:\n",
    "                mers[key]['list_cols'] = model['merge']\n",
    "            if layer == model['newc']:\n",
    "                layerlist.append({'type':model['type'],'coord':jsoncolrow[layer],'attributes':model['data']})\n",
    "    mers[key]['following_sequential'] = layerlist"
   ]
  },
  {
   "cell_type": "code",
   "execution_count": 125,
   "metadata": {},
   "outputs": [
    {
     "data": {
      "text/plain": [
       "{'Merge_2': {'row': 7,\n",
       "  'list_cols': [1, 3],\n",
       "  'following_sequential': [{'type': 'Linear',\n",
       "    'coord': [8, 1],\n",
       "    'attributes': {'out_features': 1, 'bias': 'True'}},\n",
       "   {'type': 'Linear',\n",
       "    'coord': [9, 1],\n",
       "    'attributes': {'out_features': 1, 'bias': 'True'}}]},\n",
       " 'Merge_1': {'row': 5,\n",
       "  'list_cols': [1, 2],\n",
       "  'following_sequential': [{'type': 'Tanh',\n",
       "    'coord': [6, 1],\n",
       "    'attributes': {}}]}}"
      ]
     },
     "execution_count": 125,
     "metadata": {},
     "output_type": "execute_result"
    }
   ],
   "source": [
    "mers"
   ]
  }
 ],
 "metadata": {
  "kernelspec": {
   "display_name": "nier_env",
   "language": "python",
   "name": "python3"
  },
  "language_info": {
   "codemirror_mode": {
    "name": "ipython",
    "version": 3
   },
   "file_extension": ".py",
   "mimetype": "text/x-python",
   "name": "python",
   "nbconvert_exporter": "python",
   "pygments_lexer": "ipython3",
   "version": "3.9.15"
  },
  "orig_nbformat": 4,
  "vscode": {
   "interpreter": {
    "hash": "6f1c421b08d297d1181bebea15108701aa5aedfa3c1b0c7646e6eeec4937d78d"
   }
  }
 },
 "nbformat": 4,
 "nbformat_minor": 2
}
