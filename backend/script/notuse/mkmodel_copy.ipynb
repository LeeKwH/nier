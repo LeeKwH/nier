{
 "cells": [
  {
   "cell_type": "code",
   "execution_count": 22,
   "metadata": {},
   "outputs": [],
   "source": [
    "import argparse, sys, os, re,copy, json,pandas as pd, numpy as np "
   ]
  },
  {
   "cell_type": "code",
   "execution_count": 23,
   "metadata": {},
   "outputs": [],
   "source": [
    "sys.path.append('./')\n",
    "nowpath = os.getcwd()"
   ]
  },
  {
   "cell_type": "code",
   "execution_count": 24,
   "metadata": {},
   "outputs": [],
   "source": [
    "jsondic = json.load(open('D:\\\\cyj\\\\00_project\\\\02_algaeAI\\\\2023\\\\00_dev\\\\nier\\\\backend\\\\.user\\\\admin\\\\.model\\\\MakeTest\\\\modelinfo.json'))"
   ]
  },
  {
   "cell_type": "code",
   "execution_count": 25,
   "metadata": {},
   "outputs": [],
   "source": [
    "jsonlink = jsondic['link']\n",
    "jsonmodel = jsondic['model']\n",
    "jsoncolrow = {x[2]:[x[1],x[0]] for x in jsondic['colrow']}"
   ]
  },
  {
   "cell_type": "code",
   "execution_count": 26,
   "metadata": {},
   "outputs": [],
   "source": [
    "deep_link = copy.deepcopy(jsonlink)"
   ]
  },
  {
   "cell_type": "code",
   "execution_count": 27,
   "metadata": {},
   "outputs": [],
   "source": [
    "cols = {}\n",
    "mers = {}"
   ]
  },
  {
   "cell_type": "code",
   "execution_count": 28,
   "metadata": {},
   "outputs": [],
   "source": [
    "for link in jsonlink:\n",
    "    if 'input' in link['source']:\n",
    "        cols[link['source'][-1]] = [link['target']]\n",
    "        deep_link.remove(link)\n",
    "    elif 'Merge' in link['source']:\n",
    "        mers[link['source']]={'row':0,'list_cols':[],'following_sequential':[link['target']]}\n",
    "        deep_link.remove(link)"
   ]
  },
  {
   "cell_type": "code",
   "execution_count": 29,
   "metadata": {},
   "outputs": [],
   "source": [
    "jsonlink = deep_link"
   ]
  },
  {
   "cell_type": "code",
   "execution_count": 30,
   "metadata": {},
   "outputs": [],
   "source": [
    "for key in mers.keys():\n",
    "    for source in mers[key]['following_sequential']:\n",
    "        for link in jsondic['link']:\n",
    "            if source == link['source'] and 'Merge' not in link['target']:\n",
    "                mers[key]['following_sequential'].append(link['target'])\n",
    "                deep_link.remove(link)\n",
    "            elif source == link['source'] and 'Merge' in link['target']:\n",
    "                deep_link.remove(link)"
   ]
  },
  {
   "cell_type": "code",
   "execution_count": 31,
   "metadata": {},
   "outputs": [],
   "source": [
    "for link in deep_link:\n",
    "    if 'Merge' not in link['target']:\n",
    "        cols[link['id'].split(',')[0].split('e')[-1]].append(link['target'])"
   ]
  },
  {
   "cell_type": "code",
   "execution_count": 32,
   "metadata": {},
   "outputs": [],
   "source": [
    "for key in cols.keys():\n",
    "    layerlist = []\n",
    "    for layer in cols[key]:\n",
    "        for model in jsonmodel:\n",
    "            if layer == model['newc']:\n",
    "                att = ''\n",
    "                for k,v in model['data'].items():\n",
    "                    att += k + '=' + str(v) + ',' if isinstance(v, int) or isinstance(v, float) or v in ['True', 'False'] else k + '=' + \"'\" + v + \"'\" + ','\n",
    "                layerlist.append({'type':model['type'],'coord':jsoncolrow[layer],'attributes':att})\n",
    "    cols[key] = sorted(layerlist, key=lambda x: x['coord'][0])"
   ]
  },
  {
   "cell_type": "code",
   "execution_count": 33,
   "metadata": {},
   "outputs": [],
   "source": [
    "for key in mers.keys():\n",
    "    mers[key]['row'] = jsoncolrow[key][0]\n",
    "    layerlist = []\n",
    "    for layer in mers[key]['following_sequential']:\n",
    "        for model in jsonmodel:\n",
    "            if model['newc'] == key:\n",
    "                mers[key]['list_cols'] = model['merge']\n",
    "            if layer == model['newc']:\n",
    "                att = ''\n",
    "                for k,v in model['data'].items():\n",
    "                    att += k + '=' + str(v) + ',' if isinstance(v, int) or isinstance(v, float) or v in ['True', 'False'] else k + '=' + \"'\" + v + \"'\" + ','\n",
    "                layerlist.append({'type':model['type'],'coord':jsoncolrow[layer],'attributes':att})\n",
    "    mers[key]['following_sequential'] = sorted(layerlist, key=lambda x: x['coord'][0])"
   ]
  },
  {
   "cell_type": "code",
   "execution_count": 15,
   "metadata": {},
   "outputs": [],
   "source": [
    "list_cols = list(cols.values())"
   ]
  },
  {
   "cell_type": "code",
   "execution_count": 16,
   "metadata": {},
   "outputs": [],
   "source": [
    "list_mers = list(mers.values())"
   ]
  },
  {
   "cell_type": "code",
   "execution_count": 34,
   "metadata": {},
   "outputs": [
    {
     "data": {
      "text/plain": [
       "{'1': [{'type': 'Linear',\n",
       "   'coord': [1, 1],\n",
       "   'attributes': 'out_features=1,bias=True,'},\n",
       "  {'type': 'Linear',\n",
       "   'coord': [2, 1],\n",
       "   'attributes': 'out_features=1,bias=True,'}],\n",
       " '2': [{'type': 'Linear',\n",
       "   'coord': [3, 2],\n",
       "   'attributes': 'out_features=1,bias=True,'},\n",
       "  {'type': 'Tanh', 'coord': [4, 2], 'attributes': ''},\n",
       "  {'type': 'Dropout', 'coord': [5, 2], 'attributes': 'p=0.5,inplace=False,'}]}"
      ]
     },
     "execution_count": 34,
     "metadata": {},
     "output_type": "execute_result"
    }
   ],
   "source": [
    "cols"
   ]
  }
 ],
 "metadata": {
  "kernelspec": {
   "display_name": "nier_env",
   "language": "python",
   "name": "python3"
  },
  "language_info": {
   "codemirror_mode": {
    "name": "ipython",
    "version": 3
   },
   "file_extension": ".py",
   "mimetype": "text/x-python",
   "name": "python",
   "nbconvert_exporter": "python",
   "pygments_lexer": "ipython3",
   "version": "3.9.15"
  },
  "orig_nbformat": 4,
  "vscode": {
   "interpreter": {
    "hash": "6f1c421b08d297d1181bebea15108701aa5aedfa3c1b0c7646e6eeec4937d78d"
   }
  }
 },
 "nbformat": 4,
 "nbformat_minor": 2
}
